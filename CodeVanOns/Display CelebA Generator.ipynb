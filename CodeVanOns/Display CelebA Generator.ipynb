{
 "cells": [
  {
   "cell_type": "code",
   "execution_count": 1,
   "metadata": {},
   "outputs": [],
   "source": [
    "import os\n",
    "import pdb\n",
    "import pickle\n",
    "import argparse\n",
    "import time\n",
    "\n",
    "import warnings\n",
    "warnings.filterwarnings(\"ignore\")\n",
    "\n",
    "# Numpy & Scipy imports\n",
    "import numpy as np\n",
    "import scipy\n",
    "import scipy.misc\n",
    "import matplotlib.pyplot as plt\n",
    "import plotly.plotly as py\n",
    "import plotly.graph_objs as go\n",
    "from PIL import Image\n",
    "\n",
    "from ipywidgets import interact, interactive, fixed, interact_manual\n",
    "import ipywidgets as widgets\n",
    "\n",
    "from IPython.display import display\n",
    "\n",
    "# Torch imports\n",
    "import torch\n",
    "import torch.nn as nn\n",
    "import torch.optim as optim\n",
    "\n",
    "# Local imports\n",
    "import utils\n",
    "from data_loader import get_mnist_data\n",
    "from models_celeba import Generator, Discriminator, Recognition, SharedPartDQ\n",
    "from infogan import *"
   ]
  },
  {
   "cell_type": "code",
   "execution_count": 2,
   "metadata": {},
   "outputs": [
    {
     "data": {
      "text/plain": [
       "Namespace(batch_size=64, beta1=0.5, beta2=0.99, cat_dim_size=10, cat_dims_count=10, checkpoint_every=200, cont_dims_count=0, dataset='CelebA', directory='test/', display_debug=False, load=None, log_step=10, lr=0.0003, noise_size=228, num_epochs=1, num_workers=0, sample_every=100)"
      ]
     },
     "execution_count": 2,
     "metadata": {},
     "output_type": "execute_result"
    }
   ],
   "source": [
    "path = 'test/'\n",
    "opts = pickle.load( open( path + \"model/opts.pkl\", \"rb\" ) )\n",
    "opts.directory = path\n",
    "opts.display_debug = False\n",
    "opts"
   ]
  },
  {
   "cell_type": "code",
   "execution_count": 3,
   "metadata": {},
   "outputs": [
    {
     "name": "stdout",
     "output_type": "stream",
     "text": [
      "None selected, thus we assume we load from checkpoint_dir.\n"
     ]
    }
   ],
   "source": [
    "G, D, Q, DQ = load_checkpoint(opts)"
   ]
  },
  {
   "cell_type": "code",
   "execution_count": 6,
   "metadata": {},
   "outputs": [
    {
     "name": "stdout",
     "output_type": "stream",
     "text": [
      "tensor([[[0., 0., 0.,  ..., 0., 0., 0.],\n",
      "         [0., 0., 0.,  ..., 0., 0., 0.],\n",
      "         [0., 0., 0.,  ..., 0., 0., 0.],\n",
      "         ...,\n",
      "         [0., 0., 0.,  ..., 0., 0., 0.],\n",
      "         [0., 0., 0.,  ..., 0., 0., 0.],\n",
      "         [0., 0., 0.,  ..., 0., 0., 0.]],\n",
      "\n",
      "        [[0., 0., 0.,  ..., 0., 0., 0.],\n",
      "         [0., 0., 0.,  ..., 0., 0., 0.],\n",
      "         [0., 0., 0.,  ..., 0., 0., 0.],\n",
      "         ...,\n",
      "         [0., 0., 0.,  ..., 0., 0., 0.],\n",
      "         [0., 0., 0.,  ..., 0., 0., 0.],\n",
      "         [0., 0., 0.,  ..., 0., 0., 0.]],\n",
      "\n",
      "        [[0., 0., 0.,  ..., 0., 0., 0.],\n",
      "         [0., 0., 0.,  ..., 0., 0., 0.],\n",
      "         [0., 0., 0.,  ..., 0., 0., 0.],\n",
      "         ...,\n",
      "         [0., 0., 0.,  ..., 0., 0., 0.],\n",
      "         [0., 0., 0.,  ..., 0., 0., 0.],\n",
      "         [0., 0., 0.,  ..., 0., 0., 0.]]],\n",
      "       device='cuda:0', grad_fn=<SelectBackward>)\n"
     ]
    }
   ],
   "source": [
    "noise = get_fixed_noise(opts)\n",
    "generated_images = G(noise)\n",
    "print(generated_images[0])"
   ]
  },
  {
   "cell_type": "code",
   "execution_count": 5,
   "metadata": {},
   "outputs": [
    {
     "data": {
      "text/plain": [
       "<matplotlib.image.AxesImage at 0x18e81a94128>"
      ]
     },
     "execution_count": 5,
     "metadata": {},
     "output_type": "execute_result"
    },
    {
     "data": {
      "image/png": "[encoded data removed]",
      "text/plain": [
       "<Figure size 432x288 with 1 Axes>"
      ]
     },
     "metadata": {
      "needs_background": "light"
     },
     "output_type": "display_data"
    }
   ],
   "source": [
    "noise = get_fixed_noise(opts)\n",
    "generated_images = G(noise)\n",
    "generated_images = utils.to_data(generated_images)\n",
    "grid = create_image_grid(generated_images, ncols=10)\n",
    "plt.imshow(grid)"
   ]
  },
  {
   "cell_type": "code",
   "execution_count": 121,
   "metadata": {},
   "outputs": [],
   "source": [
    "def f(seed, cat, c1, c2):\n",
    "    c1 /= 1000\n",
    "    c2 /= 1000\n",
    "    torch.manual_seed(seed)\n",
    "    if torch.cuda.is_available():\n",
    "        torch.cuda.manual_seed(seed)\n",
    "\n",
    "    fixed_noise = utils.to_var(torch.rand(100, opts.noise_size) * 2 - 1)\n",
    "    onehot_categories = np.eye(10)\n",
    "\n",
    "    noise = fixed_noise\n",
    "    noise[0,:10] = torch.tensor(onehot_categories[cat])\n",
    "    noise[0,10] = c1\n",
    "    noise[0,11] = c2\n",
    "    \n",
    "    res = G(noise)\n",
    "    plt.imshow(res[0][0].cpu().detach().numpy(), cmap='gray')\n",
    "    \n",
    "d_cont = 100\n",
    "\n",
    "seed = widgets.IntSlider(min=0,max=100,step=1,value=20, continuous_update=False)\n",
    "cat = widgets.IntSlider(min=-0,max=9,step=1,value=0, continuous_update=True)\n",
    "c1 = widgets.IntSlider(min=-2000,max=2000,step=d_cont,value=0, continuous_update=False)\n",
    "c2 = widgets.IntSlider(min=-2000,max=2000,step=d_cont,value=0, continuous_update=False)\n",
    "\n",
    "play_cat = widgets.Play(\n",
    "    interval=1000,\n",
    "    value=0,\n",
    "    min=0,\n",
    "    max=9,\n",
    "    step=1,\n",
    "    description=\"Press play\",\n",
    "    disabled=False\n",
    ")\n",
    "\n",
    "play_c1 = widgets.Play(\n",
    "    interval=250,\n",
    "    value=0,\n",
    "    min=-2000,\n",
    "    max=2000,\n",
    "    step=d_cont,\n",
    "    description=\"Press play\",\n",
    "    disabled=False\n",
    ")\n",
    "\n",
    "play_c2 = widgets.Play(\n",
    "    interval=250,\n",
    "    value=0,\n",
    "    min=-2000,\n",
    "    max=2000,\n",
    "    step=d_cont,\n",
    "    description=\"Press play\",\n",
    "    disabled=False\n",
    ")\n",
    "\n",
    "interactive_plot = interactive(f, seed=seed, cat=cat, c1=c1, c2=c2)\n",
    "\n",
    "output = interactive_plot.children[-1]\n",
    "output.layout.height = '250px'"
   ]
  },
  {
   "cell_type": "code",
   "execution_count": null,
   "metadata": {},
   "outputs": [],
   "source": []
  },
  {
   "cell_type": "code",
   "execution_count": 122,
   "metadata": {},
   "outputs": [
    {
     "data": {
      "application/vnd.jupyter.widget-view+json": {
       "model_id": "56aeb8304fdd4aa1aac13f858d8c8c51",
       "version_major": 2,
       "version_minor": 0
      },
      "text/plain": [
       "interactive(children=(IntSlider(value=20, continuous_update=False, description='seed'), IntSlider(value=0, des…"
      ]
     },
     "metadata": {},
     "output_type": "display_data"
    }
   ],
   "source": [
    "interactive_plot"
   ]
  },
  {
   "cell_type": "code",
   "execution_count": 123,
   "metadata": {},
   "outputs": [
    {
     "data": {
      "application/vnd.jupyter.widget-view+json": {
       "model_id": "de8355def4be487a9b32fcdb7d900d22",
       "version_major": 2,
       "version_minor": 0
      },
      "text/plain": [
       "VBox(children=(HBox(children=(Play(value=0, description='Press play', interval=1000, max=9), IntSlider(value=4…"
      ]
     },
     "metadata": {},
     "output_type": "display_data"
    }
   ],
   "source": [
    "widgets.jslink((play_cat, 'value'), (cat, 'value'))\n",
    "widgets.jslink((play_c1, 'value'), (c1, 'value'))\n",
    "widgets.jslink((play_c2, 'value'), (c2, 'value'))\n",
    "widgets.VBox([widgets.HBox([play_cat, cat]), widgets.HBox([play_c1, c1]), widgets.HBox([play_c2, c2])])"
   ]
  },
  {
   "cell_type": "code",
   "execution_count": null,
   "metadata": {},
   "outputs": [],
   "source": []
  }
 ],
 "metadata": {
  "kernelspec": {
   "display_name": "Python 3",
   "language": "python",
   "name": "python3"
  },
  "language_info": {
   "codemirror_mode": {
    "name": "ipython",
    "version": 3
   },
   "file_extension": ".py",
   "mimetype": "text/x-python",
   "name": "python",
   "nbconvert_exporter": "python",
   "pygments_lexer": "ipython3",
   "version": "3.6.7"
  }
 },
 "nbformat": 4,
 "nbformat_minor": 2
}
